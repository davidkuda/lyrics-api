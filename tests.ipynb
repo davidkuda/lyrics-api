{
 "cells": [
  {
   "cell_type": "code",
   "execution_count": 50,
   "id": "16b57fe3-9028-4f0e-902b-fe839bd2358a",
   "metadata": {},
   "outputs": [],
   "source": [
    "import requests as r"
   ]
  },
  {
   "cell_type": "code",
   "execution_count": 51,
   "id": "57da81c4-ea09-4095-8a46-a4c3dfa055c0",
   "metadata": {},
   "outputs": [],
   "source": [
    "url = \"http://localhost:8032\""
   ]
  },
  {
   "cell_type": "code",
   "execution_count": 52,
   "id": "b363ca9e-f1b5-4281-a8ed-6a66555cb150",
   "metadata": {},
   "outputs": [
    {
     "data": {
      "text/plain": [
       "{'status': 'available',\n",
       " 'system_information': {'environment': 'development', 'version': '0.0.1'}}"
      ]
     },
     "execution_count": 52,
     "metadata": {},
     "output_type": "execute_result"
    }
   ],
   "source": [
    "r.get(url + \"/healthz\").json()"
   ]
  },
  {
   "cell_type": "code",
   "execution_count": 22,
   "id": "13e9ce5e-8c59-49b8-87a1-752a6e2c111c",
   "metadata": {},
   "outputs": [
    {
     "data": {
      "text/plain": [
       "{'error': 'invalid authentication credentials'}"
      ]
     },
     "execution_count": 22,
     "metadata": {},
     "output_type": "execute_result"
    }
   ],
   "source": [
    "# wrong credentials\n",
    "data = {\"email\": \"dku@dku\", \"password\": \"Berlin\"}\n",
    "r.post(url + \"/v1/tokens/authentication\", json=data).json()"
   ]
  },
  {
   "cell_type": "code",
   "execution_count": 19,
   "id": "105c751a-ddd2-4fc0-b14b-7206a741965e",
   "metadata": {},
   "outputs": [
    {
     "data": {
      "text/plain": [
       "{'authentication_token': {'token': 'ANXZ3APMOJ6SPIP3HXFN5ZMGPE',\n",
       "  'expiry': '2023-03-11T23:31:35.348221+01:00'}}"
      ]
     },
     "execution_count": 19,
     "metadata": {},
     "output_type": "execute_result"
    }
   ],
   "source": [
    "data = {\"email\": \"dku@dku\", \"password\": \"berlin\"}\n",
    "res = r.post(url + \"/v1/tokens/authentication\", json=data).json()\n",
    "res"
   ]
  },
  {
   "cell_type": "code",
   "execution_count": 20,
   "id": "5abb1736-75c7-4c3a-99d2-27a5d6a1bc0f",
   "metadata": {},
   "outputs": [],
   "source": [
    "tkn = res[\"authentication_token\"][\"token\"]"
   ]
  },
  {
   "cell_type": "code",
   "execution_count": 45,
   "id": "cb7e90fa-079d-44a7-bc7c-4da9d6219f09",
   "metadata": {},
   "outputs": [
    {
     "data": {
      "text/plain": [
       "'ANXZ3APMOJ6SPIP3HXFN5ZMGPE'"
      ]
     },
     "execution_count": 45,
     "metadata": {},
     "output_type": "execute_result"
    }
   ],
   "source": [
    "tkn"
   ]
  },
  {
   "cell_type": "code",
   "execution_count": 47,
   "id": "3d71a0af-8558-4abe-9ee3-bf115dc5fdc9",
   "metadata": {},
   "outputs": [
    {
     "data": {
      "text/plain": [
       "{'status': 'available',\n",
       " 'system_information': {'environment': 'development', 'version': '0.0.1'}}"
      ]
     },
     "execution_count": 47,
     "metadata": {},
     "output_type": "execute_result"
    }
   ],
   "source": [
    "# correct token:\n",
    "r.get(url + \"/healthz\", headers={\"Authorization\": f\"Bearer {tkn}\"}).json()"
   ]
  },
  {
   "cell_type": "code",
   "execution_count": 48,
   "id": "9a4acdbd-c424-46c5-bd20-52ea00413755",
   "metadata": {},
   "outputs": [
    {
     "data": {
      "text/plain": [
       "{'error': 'invalid or missing authentication token'}"
      ]
     },
     "execution_count": 48,
     "metadata": {},
     "output_type": "execute_result"
    }
   ],
   "source": [
    "# wrong token:\n",
    "r.get(url + \"/healthz\", headers={\"Authorization\": \"incorrect\"}).json()"
   ]
  },
  {
   "cell_type": "code",
   "execution_count": 49,
   "id": "af302bd6-743a-41e6-9c5a-3125a47b9655",
   "metadata": {},
   "outputs": [
    {
     "data": {
      "text/plain": [
       "{'status': 'available',\n",
       " 'system_information': {'environment': 'development', 'version': '0.0.1'}}"
      ]
     },
     "execution_count": 49,
     "metadata": {},
     "output_type": "execute_result"
    }
   ],
   "source": [
    "# anon get request (server treats as anonymous user):\n",
    "r.get(url + \"/healthz\").json()"
   ]
  },
  {
   "cell_type": "markdown",
   "id": "2a37d861-9875-41e1-a645-58e6197648ed",
   "metadata": {},
   "source": [
    "# Songs"
   ]
  },
  {
   "cell_type": "code",
   "execution_count": 85,
   "id": "160f9851-b865-4f94-9c79-8fe818b8f879",
   "metadata": {},
   "outputs": [
    {
     "data": {
      "text/plain": [
       "[{'id': 'wish-you-were-here',\n",
       "  'artist': 'Pink Floyd',\n",
       "  'name': 'Wish You Were Here'},\n",
       " {'id': '', 'artist': 'Pink Floyd', 'name': 'Money'},\n",
       " {'id': 'money', 'artist': 'Pink Floyd', 'name': 'Money'},\n",
       " {'id': 'englishman-in-new-york',\n",
       "  'artist': 'Sting',\n",
       "  'name': 'Englishman In New York'},\n",
       " {'id': 'start-me-up', 'artist': 'The Rolling Stones', 'name': 'Start Me Up'}]"
      ]
     },
     "execution_count": 85,
     "metadata": {},
     "output_type": "execute_result"
    }
   ],
   "source": [
    "r.get(url + \"/songs\").json()"
   ]
  },
  {
   "cell_type": "code",
   "execution_count": 64,
   "id": "c2514722-2f92-46ff-9af5-61f4d229d8d8",
   "metadata": {},
   "outputs": [
    {
     "data": {
      "text/plain": [
       "{'id': 'start-me-up',\n",
       " 'artist': 'The Rolling Stones',\n",
       " 'name': 'Start Me Up',\n",
       " 'lyrics': \"__Verse 1:__  \\nIf you start me up!  \\nIf you start me up I′ll never stop  \\n\\nIf you start me up!  \\nIf you start me up I'll never stop  \\n\\nI′ve been running hot\\nYou got me ticking gonna blow my top\\n\\nIf you start me up, if you start me up\\nI'll never stop, never stop, never stop, never stop\\n\\nYou make a grown man cry\\nYou make a grown man cry\\nYou make a grown man cry\\n\\nSpread out the oil, the gasoline\\nI walk smooth ride in a mean, mean machine\\nStart it up!\\n\\n\\n__Verse 2:__\\n\\nIf you start it up!\\nKick on the starter, give it all you've got\\n(You got, you got)\\n\\nI can′t compete\\nWith the riders in the other heats\\n\\nIf you rough it up\\nIf you like it you can slide it up, slide It up\\nSlide it up, slide it up\\n\\nDon′t make a grown man cry\\nDon't make a grown man cry\\nDon′t make a grown man cry\\n\\nMy eyes dilate, my lips go green\\nMy hands are greasy, she's a mean, mean machine\\nStart it up!\\n\\n\\n__Verse 3:__\\n\\nStart me up!\\nAh, you′ve got to, you've got to\\nNever, never, never stop\\n\\nStart it up!\\nAh, start it up, never, never, never\\n\\nYou make a grown man cry\\nYou make a grown man cry\\nYou make a grown man cry\\n\\nRide like the wind, at double speed\\nI′ll take you places that you've never, never seen\\n\\n\\n__Verse 4:__\\n\\nYou start it up!\\nLove the day when we will never stop\\nNever stop, never, never, never stop\\n\\nTough me up!\\nNever stop, never stop\\n\\nYou, you, you make a grown man cry\\nYou, you make a dead man come\\nYou, you, you make a dead man come.\\n\",\n",
       " 'chords': '__A Part:__  \\nF  - - - / (like Dm7 with a hammer-on)  \\n%  - - - /  \\nBb - - - / (focus on bass note, blues feel)  \\n%  - - - /\\n\\n__B Part:__  \\nC - - - /  \\nF - - - /  \\n\\n__C Part:__  \\n\\nC - - - /',\n",
       " 'copyright': 'copyright'}"
      ]
     },
     "execution_count": 64,
     "metadata": {},
     "output_type": "execute_result"
    }
   ],
   "source": [
    "r.get(url + \"/songs/start-me-up\").json()"
   ]
  },
  {
   "cell_type": "markdown",
   "id": "7113adf6-c85b-457c-b607-c2d346d79576",
   "metadata": {},
   "source": [
    "### Without Authentication"
   ]
  },
  {
   "cell_type": "code",
   "execution_count": 65,
   "id": "acf13e5c-26aa-426e-b9e2-25db605a39e9",
   "metadata": {},
   "outputs": [
    {
     "data": {
      "text/plain": [
       "{'error': 'you must be authenticated to access this resource'}"
      ]
     },
     "execution_count": 65,
     "metadata": {},
     "output_type": "execute_result"
    }
   ],
   "source": [
    "# Create a song\n",
    "data = {\"artist\": \"Pink Floyd\", \"name\": \"Money\"}\n",
    "r.post(url + \"/songs\", json=data).json()"
   ]
  },
  {
   "cell_type": "code",
   "execution_count": 90,
   "id": "848ed793-ca78-4d4b-944b-cd4016833d96",
   "metadata": {},
   "outputs": [
    {
     "data": {
      "text/plain": [
       "{'error': 'you must be authenticated to access this resource'}"
      ]
     },
     "execution_count": 90,
     "metadata": {},
     "output_type": "execute_result"
    }
   ],
   "source": [
    "# Delete a song\n",
    "r.delete(url + \"/songs/money\", json=data).json()"
   ]
  },
  {
   "cell_type": "markdown",
   "id": "d8ffc2d2-9cd7-4884-993c-29887b37ea75",
   "metadata": {},
   "source": [
    "### With Authentication"
   ]
  },
  {
   "cell_type": "code",
   "execution_count": 83,
   "id": "9ed53c37-d720-4e9e-ade6-12070d7c874e",
   "metadata": {},
   "outputs": [],
   "source": [
    "# Create a song\n",
    "data = {\"artist\": \"Pink Floyd\", \"name\": \"Money\", \"id\": \"money\"}\n",
    "res1 = r.post(url + \"/songs\", json=data, headers={\"Authorization\": f\"Bearer {tkn}\"})"
   ]
  },
  {
   "cell_type": "code",
   "execution_count": 84,
   "id": "977b0ca8-0934-4d14-8a72-e808e416aef4",
   "metadata": {},
   "outputs": [
    {
     "data": {
      "text/plain": [
       "'Success: Created New Song'"
      ]
     },
     "execution_count": 84,
     "metadata": {},
     "output_type": "execute_result"
    }
   ],
   "source": [
    "res1.text"
   ]
  },
  {
   "cell_type": "code",
   "execution_count": 86,
   "id": "01571461-0f90-4cfb-84f4-5be81c1501fd",
   "metadata": {},
   "outputs": [],
   "source": [
    "# Delete a song\n",
    "res2 = r.delete(url + \"/songs/money\", json=data, headers={\"Authorization\": f\"Bearer {tkn}\"})"
   ]
  },
  {
   "cell_type": "code",
   "execution_count": 87,
   "id": "7be2b051-066f-417b-b7d8-a095e22e2a0b",
   "metadata": {},
   "outputs": [
    {
     "data": {
      "text/plain": [
       "'Success: Deleted Song with ID money'"
      ]
     },
     "execution_count": 87,
     "metadata": {},
     "output_type": "execute_result"
    }
   ],
   "source": [
    "res2.text"
   ]
  },
  {
   "cell_type": "code",
   "execution_count": null,
   "id": "d73215a9-d2cc-47b7-ae85-711f81432e9d",
   "metadata": {},
   "outputs": [],
   "source": []
  }
 ],
 "metadata": {
  "kernelspec": {
   "display_name": "Python 3 (ipykernel)",
   "language": "python",
   "name": "python3"
  },
  "language_info": {
   "codemirror_mode": {
    "name": "ipython",
    "version": 3
   },
   "file_extension": ".py",
   "mimetype": "text/x-python",
   "name": "python",
   "nbconvert_exporter": "python",
   "pygments_lexer": "ipython3",
   "version": "3.11.0"
  }
 },
 "nbformat": 4,
 "nbformat_minor": 5
}
